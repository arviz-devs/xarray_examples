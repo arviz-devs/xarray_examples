{
 "cells": [
  {
   "cell_type": "markdown",
   "metadata": {},
   "source": [
    "# Comparing Observed Values with Predicted Values\n",
    "\n",
    "This shows comparison of values between different xarray `Dataset` objects.  This example *also* shows comparison between Arviz `InferenceData` objects, and shows the complications that arise with inspecting out-of-sample predictions with Arviz (at least when used with PyMC3)."
   ]
  },
  {
   "cell_type": "code",
   "execution_count": 9,
   "metadata": {},
   "outputs": [],
   "source": [
    "import xarray as xr\n",
    "import arviz as az\n",
    "import scipy.stats as stats\n",
    "import matplotlib.pyplot as plt"
   ]
  },
  {
   "cell_type": "code",
   "execution_count": 2,
   "metadata": {},
   "outputs": [],
   "source": [
    "idata = az.from_netcdf('cleaned_data.nc')\n",
    "predictions = az.from_netcdf('cleaned_predictions.nc')"
   ]
  },
  {
   "cell_type": "markdown",
   "metadata": {},
   "source": [
    "## Structure of the training data set\n",
    "\n",
    "The data sets are drawn from hierarchical models, from an experimental design with a number of independent variables, and a single observation.\n",
    "\n",
    "The data have been cleaned, since I am not sure to what extent they are shareable.\n",
    "\n",
    "The `idata` dataset is the training set which was used to generate a trace.  This trace (in the `posterior` group of `idata`, originally), has been removed from the `idata` object.\n",
    "\n",
    "As is standard Arviz `InferenceData`, the values of the independent variables (the data variables with the `factorx` names), are stored in the `constant_data` group (attribute), which is an xarray `Dataset`:"
   ]
  },
  {
   "cell_type": "code",
   "execution_count": 3,
   "metadata": {},
   "outputs": [
    {
     "data": {
      "text/plain": [
       "<xarray.Dataset>\n",
       "Dimensions:     (rows: 1222)\n",
       "Coordinates:\n",
       "  * rows        (rows) int64 0 1 2 3 4 5 6 ... 1216 1217 1218 1219 1220 1221\n",
       "Data variables:\n",
       "    z(factor3)  (rows) float64 ...\n",
       "    factor1     (rows) float64 ...\n",
       "    factor2     (rows) float64 ...\n",
       "    factor3     (rows) float64 ...\n",
       "    factor4     (rows) float64 ...\n",
       "Attributes:\n",
       "    created_at:                 2020-03-26T15:17:56.410279\n",
       "    arviz_version:              0.7.0\n",
       "    inference_library:          pymc3\n",
       "    inference_library_version:  3.8"
      ]
     },
     "execution_count": 3,
     "metadata": {},
     "output_type": "execute_result"
    }
   ],
   "source": [
    "idata.constant_data"
   ]
  },
  {
   "cell_type": "markdown",
   "metadata": {},
   "source": [
    "The observations from the experiment are stored in the `obs` variable in the `observed_data` group of the `InferenceData` (in this notebook the original data have been replaced by samples from a Gaussian RV):"
   ]
  },
  {
   "cell_type": "code",
   "execution_count": 4,
   "metadata": {},
   "outputs": [
    {
     "data": {
      "text/plain": [
       "<xarray.Dataset>\n",
       "Dimensions:  (rows: 1222)\n",
       "Coordinates:\n",
       "  * rows     (rows) int64 0 1 2 3 4 5 6 7 ... 1215 1216 1217 1218 1219 1220 1221\n",
       "Data variables:\n",
       "    obs      (rows) float64 ...\n",
       "Attributes:\n",
       "    created_at:                 2020-03-26T15:17:56.401995\n",
       "    arviz_version:              0.7.0\n",
       "    inference_library:          pymc3\n",
       "    inference_library_version:  3.8"
      ]
     },
     "execution_count": 4,
     "metadata": {},
     "output_type": "execute_result"
    }
   ],
   "source": [
    "idata.observed_data"
   ]
  },
  {
   "cell_type": "markdown",
   "metadata": {},
   "source": [
    "# Predicted data\n",
    "\n",
    "After training the above model, we wished to evaluate its performance by comparing its predictions under nominal experimental conditions with the actual observed values for the same conditions.\n",
    "\n",
    "*This is the part of the example that shows a cumbersome pattern of interaction with Xarray.*  If you are interested only in Xarray, the following description will probably not be of interes:\n",
    "\n",
    "A new PyMC3 model was made, with only nominal conditions in its predictors, the posterior trace was thinned to remove variables that were functionally dependent on the predictors, and reshaped to have only four \"observed\" (predicted) variables (for reasons I won't go into, there are four values for each experimental subject under four values of one distinguished predictor).\n",
    "\n",
    "Posterior samples were collected from this new model, and stored in the `predictions` `InferenceData` object.\n",
    "\n",
    "Experimental conditions (values of independent variables):"
   ]
  },
  {
   "cell_type": "code",
   "execution_count": 5,
   "metadata": {},
   "outputs": [
    {
     "data": {
      "text/plain": [
       "<xarray.Dataset>\n",
       "Dimensions:     (rows: 4)\n",
       "Coordinates:\n",
       "  * rows        (rows) int64 0 1 2 3\n",
       "Data variables:\n",
       "    z(factor3)  (rows) float64 ...\n",
       "    factor1     (rows) float64 ...\n",
       "    factor2     (rows) float64 ...\n",
       "    factor3     (rows) float64 ...\n",
       "    factor4     (rows) float64 ...\n",
       "Attributes:\n",
       "    created_at:                 2020-03-26T16:08:38.124116\n",
       "    arviz_version:              0.7.0\n",
       "    inference_library:          pymc3\n",
       "    inference_library_version:  3.8"
      ]
     },
     "execution_count": 5,
     "metadata": {},
     "output_type": "execute_result"
    }
   ],
   "source": [
    "predictions.predictions_constant_data"
   ]
  },
  {
   "cell_type": "markdown",
   "metadata": {},
   "source": [
    "Predicted values"
   ]
  },
  {
   "cell_type": "code",
   "execution_count": 7,
   "metadata": {},
   "outputs": [
    {
     "data": {
      "text/plain": [
       "<xarray.Dataset>\n",
       "Dimensions:  (chain: 1, draw: 2000, factor2: 4, rows: 4)\n",
       "Coordinates:\n",
       "  * chain    (chain) int64 0\n",
       "  * draw     (draw) int64 0 1 2 3 4 5 6 7 ... 1993 1994 1995 1996 1997 1998 1999\n",
       "  * rows     (rows) int64 0 1 2 3\n",
       "  * factor2  (factor2) object '00' '01' '10' '11'\n",
       "Data variables:\n",
       "    obs      (chain, draw, rows) float64 ...\n",
       "    err_sd   (chain, draw, factor2) float64 ...\n",
       "Attributes:\n",
       "    created_at:                 2020-03-26T16:08:38.100882\n",
       "    arviz_version:              0.7.0\n",
       "    inference_library:          pymc3\n",
       "    inference_library_version:  3.8"
      ]
     },
     "execution_count": 7,
     "metadata": {},
     "output_type": "execute_result"
    }
   ],
   "source": [
    "predictions.predictions"
   ]
  },
  {
   "cell_type": "markdown",
   "metadata": {},
   "source": [
    "# Making comparisons\n",
    "\n",
    "In order to compare values between Datasets, we neet use `where`, which I have been finding quite cumbersome.  Here's an example of how I have been doing things.\n",
    "\n",
    "## Here is the ugly bit!\n",
    "\n",
    "First, I have to create a mask to use:"
   ]
  },
  {
   "cell_type": "code",
   "execution_count": 8,
   "metadata": {},
   "outputs": [],
   "source": [
    "from numpy import logical_and as land\n",
    "def nominal_conditions(dataset):\n",
    "    conds = land(dataset['factor1'] == 30, dataset['factor3'] == 0.0003)\n",
    "    conds = land(conds, dataset['factor4'] == 0)\n",
    "    return conds"
   ]
  },
  {
   "cell_type": "markdown",
   "metadata": {},
   "source": [
    "Even once I have wrapped up *that* bit of ugliness, it's still ugly to use it, as seen in the plotting example below:\n",
    "\n",
    "```\n",
    "conds = nominal_conditions(predictions.predictions_constant_data)\n",
    "conds = land(conds, predictions.predictions_constant_data['factor2'] == i)\n",
    "redictions.predictions['obs'].where(conds)\n",
    "```"
   ]
  },
  {
   "cell_type": "markdown",
   "metadata": {},
   "source": [
    "Here's an example use plotting:"
   ]
  },
  {
   "cell_type": "code",
   "execution_count": 13,
   "metadata": {},
   "outputs": [
    {
     "data": {
      "image/png": "[encoded data removed]",
      "text/plain": [
       "<Figure size 864x864 with 8 Axes>"
      ]
     },
     "metadata": {
      "needs_background": "light"
     },
     "output_type": "display_data"
    }
   ],
   "source": [
    "fig, axeses = plt.subplots(nrows=2, ncols=2)\n",
    "axeses = axeses.flatten()\n",
    "fig.set_size_inches((12, 12))\n",
    "fig.suptitle('Cell strain at Nominal Conditions\\nPredicted vs. Observed', fontsize=24, y=1.10)\n",
    "for i, istring in enumerate(['input1', 'input2', 'input3', 'input4']):\n",
    "    ax = axeses[i]\n",
    "    conds = nominal_conditions(predictions.predictions_constant_data)\n",
    "    conds = land(conds, predictions.predictions_constant_data['factor2'] == i)\n",
    "    predictions.predictions['obs'].where(conds).to_dataframe().hist(ax=ax,\n",
    "                                                                 label='predicted', alpha=0.5,\n",
    "                                                                 color='orange')\n",
    "    new_ax = ax.twinx()\n",
    "    conds = land(nominal_conditions(idata.constant_data), idata.constant_data['factor2'] == i)\n",
    "    idata.observed_data['obs'].where(conds).to_series().dropna().hist(ax = new_ax, label='obs', alpha=0.5)\n",
    "    lines, labels = ax.get_legend_handles_labels()\n",
    "    lines2, labels2 = new_ax.get_legend_handles_labels()\n",
    "    ax.legend(lines + lines2, labels + labels2, loc=0)\n",
    "    ax.set_title('%s'%istring)\n",
    "fig.tight_layout()"
   ]
  },
  {
   "cell_type": "code",
   "execution_count": null,
   "metadata": {},
   "outputs": [],
   "source": []
  }
 ],
 "metadata": {
  "kernelspec": {
   "display_name": "Python 3",
   "language": "python",
   "name": "python3"
  },
  "language_info": {
   "codemirror_mode": {
    "name": "ipython",
    "version": 3
   },
   "file_extension": ".py",
   "mimetype": "text/x-python",
   "name": "python",
   "nbconvert_exporter": "python",
   "pygments_lexer": "ipython3",
   "version": "3.6.8"
  }
 },
 "nbformat": 4,
 "nbformat_minor": 2
}
