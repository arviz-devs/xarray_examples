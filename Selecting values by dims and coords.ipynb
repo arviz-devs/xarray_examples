{
 "cells": [
  {
   "cell_type": "markdown",
   "id": "complimentary-ultimate",
   "metadata": {},
   "source": [
    "Can we complete the function `func` to reproduce somewhat like `result`, but using dimentions and coodinates names instead.?"
   ]
  },
  {
   "cell_type": "code",
   "execution_count": 6,
   "id": "rolled-exhaust",
   "metadata": {},
   "outputs": [],
   "source": [
    "import xarray as xr\n",
    "import numpy as np\n",
    "import pandas as pd"
   ]
  },
  {
   "cell_type": "code",
   "execution_count": 7,
   "id": "worldwide-shape",
   "metadata": {},
   "outputs": [],
   "source": [
    "da = xr.DataArray(\n",
    "    np.random.rand(4, 3),[\n",
    "        (\"time\", pd.date_range(\"2000-01-01\", periods=4)),\n",
    "        (\"space\", [\"IA\", \"IL\", \"IN\"]),\n",
    "    ],\n",
    ")"
   ]
  },
  {
   "cell_type": "code",
   "execution_count": 20,
   "id": "cheap-russian",
   "metadata": {},
   "outputs": [
    {
     "data": {
      "text/plain": [
       "[array([0.97075439, 0.73043223, 0.23588228, 0.96963874]),\n",
       " array([0.55837956, 0.40478737, 0.30038109, 0.25052596]),\n",
       " array([0.86107638, 0.93224857, 0.43324844, 0.78641102])]"
      ]
     },
     "execution_count": 20,
     "metadata": {},
     "output_type": "execute_result"
    }
   ],
   "source": [
    "result = [da[:,0].values, da[:,1].values, da[:,2].values]\n",
    "result"
   ]
  },
  {
   "cell_type": "code",
   "execution_count": 16,
   "id": "consolidated-crystal",
   "metadata": {},
   "outputs": [],
   "source": [
    "def func(da, dim):\n",
    "    return"
   ]
  },
  {
   "cell_type": "code",
   "execution_count": 18,
   "id": "manual-lawyer",
   "metadata": {},
   "outputs": [],
   "source": [
    "func(da, \"time\")"
   ]
  },
  {
   "cell_type": "code",
   "execution_count": null,
   "id": "exposed-scanner",
   "metadata": {},
   "outputs": [],
   "source": []
  }
 ],
 "metadata": {
  "kernelspec": {
   "display_name": "Python 3",
   "language": "python",
   "name": "python3"
  },
  "language_info": {
   "codemirror_mode": {
    "name": "ipython",
    "version": 3
   },
   "file_extension": ".py",
   "mimetype": "text/x-python",
   "name": "python",
   "nbconvert_exporter": "python",
   "pygments_lexer": "ipython3",
   "version": "3.8.5"
  }
 },
 "nbformat": 4,
 "nbformat_minor": 5
}
